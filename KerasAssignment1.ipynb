{
  "nbformat": 4,
  "nbformat_minor": 0,
  "metadata": {
    "colab": {
      "name": "KerasAssignment1.ipynb",
      "version": "0.3.2",
      "provenance": [],
      "collapsed_sections": [],
      "include_colab_link": true
    },
    "kernelspec": {
      "display_name": "Python 3",
      "language": "python",
      "name": "python3"
    }
  },
  "cells": [
    {
      "cell_type": "markdown",
      "metadata": {
        "id": "view-in-github",
        "colab_type": "text"
      },
      "source": [
        "<a href=\"https://colab.research.google.com/github/ad009/AlertOnboarding/blob/master/KerasAssignment1.ipynb\" target=\"_parent\"><img src=\"https://colab.research.google.com/assets/colab-badge.svg\" alt=\"Open In Colab\"/></a>"
      ]
    },
    {
      "metadata": {
        "id": "71WA8NeSdjwf",
        "colab_type": "code",
        "colab": {}
      },
      "cell_type": "code",
      "source": [
        "from keras.utils import np_utils\n",
        "from keras.datasets import mnist\n",
        "import seaborn as sns\n",
        "from keras.initializers import RandomNormal\n",
        "from keras.initializers import he_normal"
      ],
      "execution_count": 0,
      "outputs": []
    },
    {
      "metadata": {
        "id": "4mb2OH2Idjws",
        "colab_type": "code",
        "colab": {}
      },
      "cell_type": "code",
      "source": [
        "import matplotlib.pyplot as plt\n",
        "import numpy as np\n",
        "import time\n",
        "def plt_dynamic(x, vy, ty, ax, colors=['b']):\n",
        "    ax.plot(x, vy, 'b', label=\"Validation Loss\")\n",
        "    ax.plot(x, ty, 'r', label=\"Train Loss\")\n",
        "    plt.legend()\n",
        "    plt.grid()\n",
        "    fig.canvas.draw()\n"
      ],
      "execution_count": 0,
      "outputs": []
    },
    {
      "metadata": {
        "id": "V8xeWhrfdjw1",
        "colab_type": "code",
        "colab": {}
      },
      "cell_type": "code",
      "source": [
        "(X_train,Y_train),(X_test,Y_test) = mnist.load_data()"
      ],
      "execution_count": 0,
      "outputs": []
    },
    {
      "metadata": {
        "id": "7Y9skPlJdjw9",
        "colab_type": "code",
        "outputId": "d7668c07-4536-4333-9f2a-72b9dd5bc591",
        "colab": {
          "base_uri": "https://localhost:8080/",
          "height": 34
        }
      },
      "cell_type": "code",
      "source": [
        "X_train.shape[1]"
      ],
      "execution_count": 34,
      "outputs": [
        {
          "output_type": "execute_result",
          "data": {
            "text/plain": [
              "28"
            ]
          },
          "metadata": {
            "tags": []
          },
          "execution_count": 34
        }
      ]
    },
    {
      "metadata": {
        "id": "ExybsKmAdjxO",
        "colab_type": "code",
        "outputId": "b88fa3e9-8be8-4597-d239-58356fbdbcde",
        "colab": {
          "base_uri": "https://localhost:8080/",
          "height": 34
        }
      },
      "cell_type": "code",
      "source": [
        "X_test.shape[0],X_test.shape[1]"
      ],
      "execution_count": 35,
      "outputs": [
        {
          "output_type": "execute_result",
          "data": {
            "text/plain": [
              "(10000, 28)"
            ]
          },
          "metadata": {
            "tags": []
          },
          "execution_count": 35
        }
      ]
    },
    {
      "metadata": {
        "id": "Znd29DTtdjxe",
        "colab_type": "code",
        "colab": {}
      },
      "cell_type": "code",
      "source": [
        "X_train = X_train.reshape(X_train.shape[0], X_train.shape[1]*X_train.shape[2])\n"
      ],
      "execution_count": 0,
      "outputs": []
    },
    {
      "metadata": {
        "id": "WiDOKXmIdjxm",
        "colab_type": "code",
        "colab": {}
      },
      "cell_type": "code",
      "source": [
        "X_test  = X_test.reshape(X_test.shape[0],X_test.shape[1]*X_test.shape[2])"
      ],
      "execution_count": 0,
      "outputs": []
    },
    {
      "metadata": {
        "id": "QlulqSurdjxx",
        "colab_type": "code",
        "outputId": "2cdc9148-74cc-47cc-a916-108447d7ef17",
        "colab": {
          "base_uri": "https://localhost:8080/",
          "height": 34
        }
      },
      "cell_type": "code",
      "source": [
        "X_train.shape[1]"
      ],
      "execution_count": 38,
      "outputs": [
        {
          "output_type": "execute_result",
          "data": {
            "text/plain": [
              "784"
            ]
          },
          "metadata": {
            "tags": []
          },
          "execution_count": 38
        }
      ]
    },
    {
      "metadata": {
        "id": "bFONJFe7djx_",
        "colab_type": "code",
        "outputId": "c885ab8a-b0b0-43b0-86a7-4c6567b77d6e",
        "colab": {
          "base_uri": "https://localhost:8080/",
          "height": 34
        }
      },
      "cell_type": "code",
      "source": [
        "X_train.shape[0]"
      ],
      "execution_count": 39,
      "outputs": [
        {
          "output_type": "execute_result",
          "data": {
            "text/plain": [
              "60000"
            ]
          },
          "metadata": {
            "tags": []
          },
          "execution_count": 39
        }
      ]
    },
    {
      "metadata": {
        "id": "pidN2uNUdjyM",
        "colab_type": "code",
        "outputId": "ca78888f-b6b1-44fe-df53-da94dc6b1e05",
        "colab": {
          "base_uri": "https://localhost:8080/",
          "height": 34
        }
      },
      "cell_type": "code",
      "source": [
        "X_test.shape[1]"
      ],
      "execution_count": 40,
      "outputs": [
        {
          "output_type": "execute_result",
          "data": {
            "text/plain": [
              "784"
            ]
          },
          "metadata": {
            "tags": []
          },
          "execution_count": 40
        }
      ]
    },
    {
      "metadata": {
        "id": "1KiRztM2djyZ",
        "colab_type": "code",
        "outputId": "48ec1c8c-1f9c-4a4a-f25b-d3a2cb43fc7c",
        "colab": {
          "base_uri": "https://localhost:8080/",
          "height": 34
        }
      },
      "cell_type": "code",
      "source": [
        "X_test.shape[0]"
      ],
      "execution_count": 41,
      "outputs": [
        {
          "output_type": "execute_result",
          "data": {
            "text/plain": [
              "10000"
            ]
          },
          "metadata": {
            "tags": []
          },
          "execution_count": 41
        }
      ]
    },
    {
      "metadata": {
        "id": "KueYBRdQdjym",
        "colab_type": "code",
        "outputId": "0cf29e54-3d61-4eb6-91fb-de833278ded7",
        "colab": {
          "base_uri": "https://localhost:8080/",
          "height": 756
        }
      },
      "cell_type": "code",
      "source": [
        "print(X_train[0])"
      ],
      "execution_count": 42,
      "outputs": [
        {
          "output_type": "stream",
          "text": [
            "[  0   0   0   0   0   0   0   0   0   0   0   0   0   0   0   0   0   0\n",
            "   0   0   0   0   0   0   0   0   0   0   0   0   0   0   0   0   0   0\n",
            "   0   0   0   0   0   0   0   0   0   0   0   0   0   0   0   0   0   0\n",
            "   0   0   0   0   0   0   0   0   0   0   0   0   0   0   0   0   0   0\n",
            "   0   0   0   0   0   0   0   0   0   0   0   0   0   0   0   0   0   0\n",
            "   0   0   0   0   0   0   0   0   0   0   0   0   0   0   0   0   0   0\n",
            "   0   0   0   0   0   0   0   0   0   0   0   0   0   0   0   0   0   0\n",
            "   0   0   0   0   0   0   0   0   0   0   0   0   0   0   0   0   0   0\n",
            "   0   0   0   0   0   0   0   0   3  18  18  18 126 136 175  26 166 255\n",
            " 247 127   0   0   0   0   0   0   0   0   0   0   0   0  30  36  94 154\n",
            " 170 253 253 253 253 253 225 172 253 242 195  64   0   0   0   0   0   0\n",
            "   0   0   0   0   0  49 238 253 253 253 253 253 253 253 253 251  93  82\n",
            "  82  56  39   0   0   0   0   0   0   0   0   0   0   0   0  18 219 253\n",
            " 253 253 253 253 198 182 247 241   0   0   0   0   0   0   0   0   0   0\n",
            "   0   0   0   0   0   0   0   0  80 156 107 253 253 205  11   0  43 154\n",
            "   0   0   0   0   0   0   0   0   0   0   0   0   0   0   0   0   0   0\n",
            "   0  14   1 154 253  90   0   0   0   0   0   0   0   0   0   0   0   0\n",
            "   0   0   0   0   0   0   0   0   0   0   0   0   0 139 253 190   2   0\n",
            "   0   0   0   0   0   0   0   0   0   0   0   0   0   0   0   0   0   0\n",
            "   0   0   0   0   0  11 190 253  70   0   0   0   0   0   0   0   0   0\n",
            "   0   0   0   0   0   0   0   0   0   0   0   0   0   0   0   0  35 241\n",
            " 225 160 108   1   0   0   0   0   0   0   0   0   0   0   0   0   0   0\n",
            "   0   0   0   0   0   0   0   0   0  81 240 253 253 119  25   0   0   0\n",
            "   0   0   0   0   0   0   0   0   0   0   0   0   0   0   0   0   0   0\n",
            "   0   0  45 186 253 253 150  27   0   0   0   0   0   0   0   0   0   0\n",
            "   0   0   0   0   0   0   0   0   0   0   0   0   0  16  93 252 253 187\n",
            "   0   0   0   0   0   0   0   0   0   0   0   0   0   0   0   0   0   0\n",
            "   0   0   0   0   0   0   0 249 253 249  64   0   0   0   0   0   0   0\n",
            "   0   0   0   0   0   0   0   0   0   0   0   0   0   0  46 130 183 253\n",
            " 253 207   2   0   0   0   0   0   0   0   0   0   0   0   0   0   0   0\n",
            "   0   0   0   0  39 148 229 253 253 253 250 182   0   0   0   0   0   0\n",
            "   0   0   0   0   0   0   0   0   0   0   0   0  24 114 221 253 253 253\n",
            " 253 201  78   0   0   0   0   0   0   0   0   0   0   0   0   0   0   0\n",
            "   0   0  23  66 213 253 253 253 253 198  81   2   0   0   0   0   0   0\n",
            "   0   0   0   0   0   0   0   0   0   0  18 171 219 253 253 253 253 195\n",
            "  80   9   0   0   0   0   0   0   0   0   0   0   0   0   0   0   0   0\n",
            "  55 172 226 253 253 253 253 244 133  11   0   0   0   0   0   0   0   0\n",
            "   0   0   0   0   0   0   0   0   0   0 136 253 253 253 212 135 132  16\n",
            "   0   0   0   0   0   0   0   0   0   0   0   0   0   0   0   0   0   0\n",
            "   0   0   0   0   0   0   0   0   0   0   0   0   0   0   0   0   0   0\n",
            "   0   0   0   0   0   0   0   0   0   0   0   0   0   0   0   0   0   0\n",
            "   0   0   0   0   0   0   0   0   0   0   0   0   0   0   0   0   0   0\n",
            "   0   0   0   0   0   0   0   0   0   0   0   0   0   0   0   0   0   0\n",
            "   0   0   0   0   0   0   0   0   0   0]\n"
          ],
          "name": "stdout"
        }
      ]
    },
    {
      "metadata": {
        "id": "G0B3d4mfdjyy",
        "colab_type": "code",
        "colab": {}
      },
      "cell_type": "code",
      "source": [
        "#normalizing the data\n",
        "X_train = X_train/255\n",
        "X_test = X_test/255"
      ],
      "execution_count": 0,
      "outputs": []
    },
    {
      "metadata": {
        "id": "Rm6rhsKbdjy6",
        "colab_type": "code",
        "outputId": "d2728df2-256a-43ff-a040-00d56ea01b3e",
        "colab": {
          "base_uri": "https://localhost:8080/",
          "height": 2218
        }
      },
      "cell_type": "code",
      "source": [
        "print(X_train[0])"
      ],
      "execution_count": 44,
      "outputs": [
        {
          "output_type": "stream",
          "text": [
            "[0.         0.         0.         0.         0.         0.\n",
            " 0.         0.         0.         0.         0.         0.\n",
            " 0.         0.         0.         0.         0.         0.\n",
            " 0.         0.         0.         0.         0.         0.\n",
            " 0.         0.         0.         0.         0.         0.\n",
            " 0.         0.         0.         0.         0.         0.\n",
            " 0.         0.         0.         0.         0.         0.\n",
            " 0.         0.         0.         0.         0.         0.\n",
            " 0.         0.         0.         0.         0.         0.\n",
            " 0.         0.         0.         0.         0.         0.\n",
            " 0.         0.         0.         0.         0.         0.\n",
            " 0.         0.         0.         0.         0.         0.\n",
            " 0.         0.         0.         0.         0.         0.\n",
            " 0.         0.         0.         0.         0.         0.\n",
            " 0.         0.         0.         0.         0.         0.\n",
            " 0.         0.         0.         0.         0.         0.\n",
            " 0.         0.         0.         0.         0.         0.\n",
            " 0.         0.         0.         0.         0.         0.\n",
            " 0.         0.         0.         0.         0.         0.\n",
            " 0.         0.         0.         0.         0.         0.\n",
            " 0.         0.         0.         0.         0.         0.\n",
            " 0.         0.         0.         0.         0.         0.\n",
            " 0.         0.         0.         0.         0.         0.\n",
            " 0.         0.         0.         0.         0.         0.\n",
            " 0.         0.         0.         0.         0.         0.\n",
            " 0.         0.         0.01176471 0.07058824 0.07058824 0.07058824\n",
            " 0.49411765 0.53333333 0.68627451 0.10196078 0.65098039 1.\n",
            " 0.96862745 0.49803922 0.         0.         0.         0.\n",
            " 0.         0.         0.         0.         0.         0.\n",
            " 0.         0.         0.11764706 0.14117647 0.36862745 0.60392157\n",
            " 0.66666667 0.99215686 0.99215686 0.99215686 0.99215686 0.99215686\n",
            " 0.88235294 0.6745098  0.99215686 0.94901961 0.76470588 0.25098039\n",
            " 0.         0.         0.         0.         0.         0.\n",
            " 0.         0.         0.         0.         0.         0.19215686\n",
            " 0.93333333 0.99215686 0.99215686 0.99215686 0.99215686 0.99215686\n",
            " 0.99215686 0.99215686 0.99215686 0.98431373 0.36470588 0.32156863\n",
            " 0.32156863 0.21960784 0.15294118 0.         0.         0.\n",
            " 0.         0.         0.         0.         0.         0.\n",
            " 0.         0.         0.         0.07058824 0.85882353 0.99215686\n",
            " 0.99215686 0.99215686 0.99215686 0.99215686 0.77647059 0.71372549\n",
            " 0.96862745 0.94509804 0.         0.         0.         0.\n",
            " 0.         0.         0.         0.         0.         0.\n",
            " 0.         0.         0.         0.         0.         0.\n",
            " 0.         0.         0.31372549 0.61176471 0.41960784 0.99215686\n",
            " 0.99215686 0.80392157 0.04313725 0.         0.16862745 0.60392157\n",
            " 0.         0.         0.         0.         0.         0.\n",
            " 0.         0.         0.         0.         0.         0.\n",
            " 0.         0.         0.         0.         0.         0.\n",
            " 0.         0.05490196 0.00392157 0.60392157 0.99215686 0.35294118\n",
            " 0.         0.         0.         0.         0.         0.\n",
            " 0.         0.         0.         0.         0.         0.\n",
            " 0.         0.         0.         0.         0.         0.\n",
            " 0.         0.         0.         0.         0.         0.\n",
            " 0.         0.54509804 0.99215686 0.74509804 0.00784314 0.\n",
            " 0.         0.         0.         0.         0.         0.\n",
            " 0.         0.         0.         0.         0.         0.\n",
            " 0.         0.         0.         0.         0.         0.\n",
            " 0.         0.         0.         0.         0.         0.04313725\n",
            " 0.74509804 0.99215686 0.2745098  0.         0.         0.\n",
            " 0.         0.         0.         0.         0.         0.\n",
            " 0.         0.         0.         0.         0.         0.\n",
            " 0.         0.         0.         0.         0.         0.\n",
            " 0.         0.         0.         0.         0.1372549  0.94509804\n",
            " 0.88235294 0.62745098 0.42352941 0.00392157 0.         0.\n",
            " 0.         0.         0.         0.         0.         0.\n",
            " 0.         0.         0.         0.         0.         0.\n",
            " 0.         0.         0.         0.         0.         0.\n",
            " 0.         0.         0.         0.31764706 0.94117647 0.99215686\n",
            " 0.99215686 0.46666667 0.09803922 0.         0.         0.\n",
            " 0.         0.         0.         0.         0.         0.\n",
            " 0.         0.         0.         0.         0.         0.\n",
            " 0.         0.         0.         0.         0.         0.\n",
            " 0.         0.         0.17647059 0.72941176 0.99215686 0.99215686\n",
            " 0.58823529 0.10588235 0.         0.         0.         0.\n",
            " 0.         0.         0.         0.         0.         0.\n",
            " 0.         0.         0.         0.         0.         0.\n",
            " 0.         0.         0.         0.         0.         0.\n",
            " 0.         0.0627451  0.36470588 0.98823529 0.99215686 0.73333333\n",
            " 0.         0.         0.         0.         0.         0.\n",
            " 0.         0.         0.         0.         0.         0.\n",
            " 0.         0.         0.         0.         0.         0.\n",
            " 0.         0.         0.         0.         0.         0.\n",
            " 0.         0.97647059 0.99215686 0.97647059 0.25098039 0.\n",
            " 0.         0.         0.         0.         0.         0.\n",
            " 0.         0.         0.         0.         0.         0.\n",
            " 0.         0.         0.         0.         0.         0.\n",
            " 0.         0.         0.18039216 0.50980392 0.71764706 0.99215686\n",
            " 0.99215686 0.81176471 0.00784314 0.         0.         0.\n",
            " 0.         0.         0.         0.         0.         0.\n",
            " 0.         0.         0.         0.         0.         0.\n",
            " 0.         0.         0.         0.         0.15294118 0.58039216\n",
            " 0.89803922 0.99215686 0.99215686 0.99215686 0.98039216 0.71372549\n",
            " 0.         0.         0.         0.         0.         0.\n",
            " 0.         0.         0.         0.         0.         0.\n",
            " 0.         0.         0.         0.         0.         0.\n",
            " 0.09411765 0.44705882 0.86666667 0.99215686 0.99215686 0.99215686\n",
            " 0.99215686 0.78823529 0.30588235 0.         0.         0.\n",
            " 0.         0.         0.         0.         0.         0.\n",
            " 0.         0.         0.         0.         0.         0.\n",
            " 0.         0.         0.09019608 0.25882353 0.83529412 0.99215686\n",
            " 0.99215686 0.99215686 0.99215686 0.77647059 0.31764706 0.00784314\n",
            " 0.         0.         0.         0.         0.         0.\n",
            " 0.         0.         0.         0.         0.         0.\n",
            " 0.         0.         0.         0.         0.07058824 0.67058824\n",
            " 0.85882353 0.99215686 0.99215686 0.99215686 0.99215686 0.76470588\n",
            " 0.31372549 0.03529412 0.         0.         0.         0.\n",
            " 0.         0.         0.         0.         0.         0.\n",
            " 0.         0.         0.         0.         0.         0.\n",
            " 0.21568627 0.6745098  0.88627451 0.99215686 0.99215686 0.99215686\n",
            " 0.99215686 0.95686275 0.52156863 0.04313725 0.         0.\n",
            " 0.         0.         0.         0.         0.         0.\n",
            " 0.         0.         0.         0.         0.         0.\n",
            " 0.         0.         0.         0.         0.53333333 0.99215686\n",
            " 0.99215686 0.99215686 0.83137255 0.52941176 0.51764706 0.0627451\n",
            " 0.         0.         0.         0.         0.         0.\n",
            " 0.         0.         0.         0.         0.         0.\n",
            " 0.         0.         0.         0.         0.         0.\n",
            " 0.         0.         0.         0.         0.         0.\n",
            " 0.         0.         0.         0.         0.         0.\n",
            " 0.         0.         0.         0.         0.         0.\n",
            " 0.         0.         0.         0.         0.         0.\n",
            " 0.         0.         0.         0.         0.         0.\n",
            " 0.         0.         0.         0.         0.         0.\n",
            " 0.         0.         0.         0.         0.         0.\n",
            " 0.         0.         0.         0.         0.         0.\n",
            " 0.         0.         0.         0.         0.         0.\n",
            " 0.         0.         0.         0.         0.         0.\n",
            " 0.         0.         0.         0.         0.         0.\n",
            " 0.         0.         0.         0.         0.         0.\n",
            " 0.         0.         0.         0.         0.         0.\n",
            " 0.         0.         0.         0.        ]\n"
          ],
          "name": "stdout"
        }
      ]
    },
    {
      "metadata": {
        "id": "YRlhbyvAdjzJ",
        "colab_type": "code",
        "colab": {}
      },
      "cell_type": "code",
      "source": [
        "from keras.models import Sequential\n",
        "from keras.layers import Dense,Activation\n",
        "from keras.layers.normalization import BatchNormalization\n",
        "from keras.layers import Dropout"
      ],
      "execution_count": 0,
      "outputs": []
    },
    {
      "metadata": {
        "id": "-ujiuJ1udjzS",
        "colab_type": "code",
        "colab": {}
      },
      "cell_type": "code",
      "source": [
        "out_dim = 10\n",
        "input_dim = X_train.shape[1]\n",
        "batch_size = 128\n",
        "nb_epochs = 20"
      ],
      "execution_count": 0,
      "outputs": []
    },
    {
      "metadata": {
        "id": "psidbPtIdjza",
        "colab_type": "code",
        "outputId": "dd57c624-f2b3-4107-b540-c904f69bf78f",
        "colab": {
          "base_uri": "https://localhost:8080/",
          "height": 370
        }
      },
      "cell_type": "code",
      "source": [
        "model = Sequential()\n",
        "model.add(Dense(364,activation='relu',input_shape=(input_dim,),kernel_initializer=\"he_normal\"))\n",
        "model.add(BatchNormalization())\n",
        "model.add(Dropout(0.5))\n",
        "\n",
        "model.add(Dense(128,activation='relu',kernel_initializer='he_normal'))\n",
        "model.add(BatchNormalization())\n",
        "model.add(Dropout(0.5))\n",
        "\n",
        "model.add(Dense(out_dim,activation='softmax'))\n",
        "model.summary()\n",
        "\n"
      ],
      "execution_count": 47,
      "outputs": [
        {
          "output_type": "stream",
          "text": [
            "_________________________________________________________________\n",
            "Layer (type)                 Output Shape              Param #   \n",
            "=================================================================\n",
            "dense_19 (Dense)             (None, 364)               285740    \n",
            "_________________________________________________________________\n",
            "batch_normalization_15 (Batc (None, 364)               1456      \n",
            "_________________________________________________________________\n",
            "dropout_15 (Dropout)         (None, 364)               0         \n",
            "_________________________________________________________________\n",
            "dense_20 (Dense)             (None, 128)               46720     \n",
            "_________________________________________________________________\n",
            "batch_normalization_16 (Batc (None, 128)               512       \n",
            "_________________________________________________________________\n",
            "dropout_16 (Dropout)         (None, 128)               0         \n",
            "_________________________________________________________________\n",
            "dense_21 (Dense)             (None, 10)                1290      \n",
            "=================================================================\n",
            "Total params: 335,718\n",
            "Trainable params: 334,734\n",
            "Non-trainable params: 984\n",
            "_________________________________________________________________\n"
          ],
          "name": "stdout"
        }
      ]
    },
    {
      "metadata": {
        "id": "DTYFiOB4djzp",
        "colab_type": "code",
        "outputId": "626467cc-b501-48fa-a666-907e6dae4b10",
        "colab": {
          "base_uri": "https://localhost:8080/",
          "height": 726
        }
      },
      "cell_type": "code",
      "source": [
        "model.compile(optimizer='adam',loss='sparse_categorical_crossentropy',metrics=['accuracy'])\n",
        "history = model.fit(X_train,Y_train,batch_size=batch_size,epochs=nb_epochs,verbose=1,validation_data=[X_test,Y_test])\n",
        "\n",
        "\n",
        "\n"
      ],
      "execution_count": 56,
      "outputs": [
        {
          "output_type": "stream",
          "text": [
            "Train on 60000 samples, validate on 10000 samples\n",
            "Epoch 1/20\n",
            "60000/60000 [==============================] - 9s 150us/step - loss: 0.0618 - acc: 0.9803 - val_loss: 0.0571 - val_acc: 0.9818\n",
            "Epoch 2/20\n",
            "60000/60000 [==============================] - 7s 120us/step - loss: 0.0576 - acc: 0.9815 - val_loss: 0.0592 - val_acc: 0.9832\n",
            "Epoch 3/20\n",
            "60000/60000 [==============================] - 7s 120us/step - loss: 0.0533 - acc: 0.9830 - val_loss: 0.0602 - val_acc: 0.9827\n",
            "Epoch 4/20\n",
            "60000/60000 [==============================] - 7s 118us/step - loss: 0.0554 - acc: 0.9825 - val_loss: 0.0527 - val_acc: 0.9849\n",
            "Epoch 5/20\n",
            "60000/60000 [==============================] - 7s 120us/step - loss: 0.0527 - acc: 0.9830 - val_loss: 0.0565 - val_acc: 0.9824\n",
            "Epoch 6/20\n",
            "60000/60000 [==============================] - 7s 119us/step - loss: 0.0555 - acc: 0.9823 - val_loss: 0.0550 - val_acc: 0.9835\n",
            "Epoch 7/20\n",
            "60000/60000 [==============================] - 7s 120us/step - loss: 0.0507 - acc: 0.9836 - val_loss: 0.0535 - val_acc: 0.9836\n",
            "Epoch 8/20\n",
            "60000/60000 [==============================] - 7s 120us/step - loss: 0.0488 - acc: 0.9849 - val_loss: 0.0548 - val_acc: 0.9834\n",
            "Epoch 9/20\n",
            "60000/60000 [==============================] - 7s 118us/step - loss: 0.0493 - acc: 0.9842 - val_loss: 0.0527 - val_acc: 0.9849\n",
            "Epoch 10/20\n",
            "60000/60000 [==============================] - 7s 120us/step - loss: 0.0468 - acc: 0.9851 - val_loss: 0.0545 - val_acc: 0.9841\n",
            "Epoch 11/20\n",
            "60000/60000 [==============================] - 7s 120us/step - loss: 0.0428 - acc: 0.9865 - val_loss: 0.0551 - val_acc: 0.9841\n",
            "Epoch 12/20\n",
            "60000/60000 [==============================] - 7s 119us/step - loss: 0.0444 - acc: 0.9860 - val_loss: 0.0559 - val_acc: 0.9841\n",
            "Epoch 13/20\n",
            "60000/60000 [==============================] - 7s 118us/step - loss: 0.0437 - acc: 0.9859 - val_loss: 0.0577 - val_acc: 0.9839\n",
            "Epoch 14/20\n",
            "60000/60000 [==============================] - 7s 120us/step - loss: 0.0430 - acc: 0.9857 - val_loss: 0.0550 - val_acc: 0.9839\n",
            "Epoch 15/20\n",
            "60000/60000 [==============================] - 7s 119us/step - loss: 0.0439 - acc: 0.9857 - val_loss: 0.0586 - val_acc: 0.9832\n",
            "Epoch 16/20\n",
            "60000/60000 [==============================] - 7s 122us/step - loss: 0.0419 - acc: 0.9865 - val_loss: 0.0626 - val_acc: 0.9831\n",
            "Epoch 17/20\n",
            "60000/60000 [==============================] - 7s 120us/step - loss: 0.0402 - acc: 0.9871 - val_loss: 0.0580 - val_acc: 0.9839\n",
            "Epoch 18/20\n",
            "60000/60000 [==============================] - 7s 121us/step - loss: 0.0397 - acc: 0.9866 - val_loss: 0.0590 - val_acc: 0.9828\n",
            "Epoch 19/20\n",
            "60000/60000 [==============================] - 7s 119us/step - loss: 0.0407 - acc: 0.9870 - val_loss: 0.0561 - val_acc: 0.9833\n",
            "Epoch 20/20\n",
            "60000/60000 [==============================] - 7s 120us/step - loss: 0.0404 - acc: 0.9868 - val_loss: 0.0539 - val_acc: 0.9842\n"
          ],
          "name": "stdout"
        }
      ]
    },
    {
      "metadata": {
        "id": "Z9pRygiXe1mj",
        "colab_type": "code",
        "outputId": "49e55321-ebaa-4da4-a556-1caaafdca774",
        "colab": {
          "base_uri": "https://localhost:8080/",
          "height": 394
        }
      },
      "cell_type": "code",
      "source": [
        "score = model.evaluate(X_test,Y_test,verbose=0)\n",
        "print(\"Test Score:\",score[0])\n",
        "print('Test accuracy',score[1])\n",
        "\n",
        "#Test and Train accuracy of the model\n",
        "model_test = score[1]\n",
        "model_train = history.history['acc']\n",
        "\n",
        "\n",
        "fig,ax = plt.subplots(1,1)\n",
        "ax.set_xlabel('epoch') ; ax.set_ylabel('Categorical Crossentropy Loss')\n",
        "\n",
        "# list of epoch numbers\n",
        "x = list(range(1,nb_epochs+1))\n",
        "\n",
        "\n",
        "vy = history.history['val_loss']\n",
        "ty = history.history['loss']\n",
        "plt_dynamic(x, vy, ty, ax)\n",
        "\n"
      ],
      "execution_count": 64,
      "outputs": [
        {
          "output_type": "stream",
          "text": [
            "Test Score: 0.05391475826140668\n",
            "Test accuracy 0.9842\n"
          ],
          "name": "stdout"
        },
        {
          "output_type": "display_data",
          "data": {
            "image/png": "[encoded data removed]",
            "text/plain": [
              "<Figure size 576x396 with 1 Axes>"
            ]
          },
          "metadata": {
            "tags": []
          }
        }
      ]
    },
    {
      "metadata": {
        "id": "UR2-eXWqrUVN",
        "colab_type": "code",
        "colab": {}
      },
      "cell_type": "code",
      "source": [
        ""
      ],
      "execution_count": 0,
      "outputs": []
    },
    {
      "metadata": {
        "id": "GoF1QIeOexmE",
        "colab_type": "code",
        "outputId": "6533723a-f04f-4942-fcec-9db19bf3e578",
        "colab": {
          "base_uri": "https://localhost:8080/",
          "height": 470
        }
      },
      "cell_type": "code",
      "source": [
        "model2 = Sequential()\n",
        "model2.add(Dense(512,activation='sigmoid',input_shape=(input_dim,),kernel_initializer='he_normal'))\n",
        "model2.add(BatchNormalization())\n",
        "model2.add(Dropout(0.5))\n",
        "\n",
        "model2.add(Dense(364,activation='sigmoid',kernel_initializer='he_normal'))\n",
        "model2.add(BatchNormalization())\n",
        "model2.add(Dropout(0.5))\n",
        "\n",
        "model2.add(Dense(128,activation='sigmoid',kernel_initializer='he_normal'))\n",
        "model2.add(BatchNormalization())\n",
        "model2.add(Dropout(0.5))\n",
        "\n",
        "model2.add(Dense(out_dim,activation='softmax'))\n",
        "\n",
        "model2.summary()"
      ],
      "execution_count": 59,
      "outputs": [
        {
          "output_type": "stream",
          "text": [
            "_________________________________________________________________\n",
            "Layer (type)                 Output Shape              Param #   \n",
            "=================================================================\n",
            "dense_22 (Dense)             (None, 512)               401920    \n",
            "_________________________________________________________________\n",
            "batch_normalization_17 (Batc (None, 512)               2048      \n",
            "_________________________________________________________________\n",
            "dropout_17 (Dropout)         (None, 512)               0         \n",
            "_________________________________________________________________\n",
            "dense_23 (Dense)             (None, 364)               186732    \n",
            "_________________________________________________________________\n",
            "batch_normalization_18 (Batc (None, 364)               1456      \n",
            "_________________________________________________________________\n",
            "dropout_18 (Dropout)         (None, 364)               0         \n",
            "_________________________________________________________________\n",
            "dense_24 (Dense)             (None, 128)               46720     \n",
            "_________________________________________________________________\n",
            "batch_normalization_19 (Batc (None, 128)               512       \n",
            "_________________________________________________________________\n",
            "dropout_19 (Dropout)         (None, 128)               0         \n",
            "_________________________________________________________________\n",
            "dense_25 (Dense)             (None, 10)                1290      \n",
            "=================================================================\n",
            "Total params: 640,678\n",
            "Trainable params: 638,670\n",
            "Non-trainable params: 2,008\n",
            "_________________________________________________________________\n"
          ],
          "name": "stdout"
        }
      ]
    },
    {
      "metadata": {
        "id": "lPdGne_vV3Ps",
        "colab_type": "code",
        "outputId": "3c85338c-b928-4259-a44f-7c9bcc734073",
        "colab": {
          "base_uri": "https://localhost:8080/",
          "height": 726
        }
      },
      "cell_type": "code",
      "source": [
        "model2.compile(optimizer='adam',loss='sparse_categorical_crossentropy',metrics=['accuracy'])\n",
        "history = model2.fit(X_train,Y_train,batch_size=batch_size,epochs=nb_epochs,verbose=1,validation_data=[X_test,Y_test])\n"
      ],
      "execution_count": 60,
      "outputs": [
        {
          "output_type": "stream",
          "text": [
            "Train on 60000 samples, validate on 10000 samples\n",
            "Epoch 1/20\n",
            "60000/60000 [==============================] - 16s 259us/step - loss: 0.5641 - acc: 0.8299 - val_loss: 0.2550 - val_acc: 0.9251\n",
            "Epoch 2/20\n",
            "60000/60000 [==============================] - 14s 232us/step - loss: 0.3537 - acc: 0.8946 - val_loss: 0.2194 - val_acc: 0.9359\n",
            "Epoch 3/20\n",
            "60000/60000 [==============================] - 14s 235us/step - loss: 0.3048 - acc: 0.9097 - val_loss: 0.1869 - val_acc: 0.9448\n",
            "Epoch 4/20\n",
            "60000/60000 [==============================] - 14s 231us/step - loss: 0.2667 - acc: 0.9215 - val_loss: 0.1634 - val_acc: 0.9510\n",
            "Epoch 5/20\n",
            "60000/60000 [==============================] - 14s 229us/step - loss: 0.2400 - acc: 0.9292 - val_loss: 0.1501 - val_acc: 0.9557\n",
            "Epoch 6/20\n",
            "60000/60000 [==============================] - 14s 233us/step - loss: 0.2161 - acc: 0.9369 - val_loss: 0.1317 - val_acc: 0.9604\n",
            "Epoch 7/20\n",
            "60000/60000 [==============================] - 14s 226us/step - loss: 0.1982 - acc: 0.9413 - val_loss: 0.1189 - val_acc: 0.9634\n",
            "Epoch 8/20\n",
            "60000/60000 [==============================] - 14s 226us/step - loss: 0.1782 - acc: 0.9467 - val_loss: 0.1094 - val_acc: 0.9681\n",
            "Epoch 9/20\n",
            "60000/60000 [==============================] - 14s 234us/step - loss: 0.1659 - acc: 0.9507 - val_loss: 0.1070 - val_acc: 0.9679\n",
            "Epoch 10/20\n",
            "60000/60000 [==============================] - 14s 232us/step - loss: 0.1537 - acc: 0.9536 - val_loss: 0.0954 - val_acc: 0.9707\n",
            "Epoch 11/20\n",
            "60000/60000 [==============================] - 14s 234us/step - loss: 0.1435 - acc: 0.9579 - val_loss: 0.0947 - val_acc: 0.9721\n",
            "Epoch 12/20\n",
            "60000/60000 [==============================] - 14s 238us/step - loss: 0.1332 - acc: 0.9602 - val_loss: 0.0864 - val_acc: 0.9749\n",
            "Epoch 13/20\n",
            "60000/60000 [==============================] - 14s 233us/step - loss: 0.1257 - acc: 0.9625 - val_loss: 0.0769 - val_acc: 0.9782\n",
            "Epoch 14/20\n",
            "60000/60000 [==============================] - 14s 233us/step - loss: 0.1185 - acc: 0.9645 - val_loss: 0.0771 - val_acc: 0.9770\n",
            "Epoch 15/20\n",
            "60000/60000 [==============================] - 14s 238us/step - loss: 0.1131 - acc: 0.9667 - val_loss: 0.0751 - val_acc: 0.9793\n",
            "Epoch 16/20\n",
            "60000/60000 [==============================] - 14s 238us/step - loss: 0.1083 - acc: 0.9672 - val_loss: 0.0698 - val_acc: 0.9803\n",
            "Epoch 17/20\n",
            "60000/60000 [==============================] - 15s 242us/step - loss: 0.1032 - acc: 0.9686 - val_loss: 0.0714 - val_acc: 0.9805\n",
            "Epoch 18/20\n",
            "60000/60000 [==============================] - 14s 236us/step - loss: 0.0964 - acc: 0.9706 - val_loss: 0.0689 - val_acc: 0.9803\n",
            "Epoch 19/20\n",
            "60000/60000 [==============================] - 15s 253us/step - loss: 0.0952 - acc: 0.9709 - val_loss: 0.0678 - val_acc: 0.9800\n",
            "Epoch 20/20\n",
            "60000/60000 [==============================] - 15s 249us/step - loss: 0.0891 - acc: 0.9733 - val_loss: 0.0683 - val_acc: 0.9811\n"
          ],
          "name": "stdout"
        }
      ]
    },
    {
      "metadata": {
        "id": "_ulbw7vRdjzt",
        "colab_type": "code",
        "outputId": "b7d3585d-95d8-4f0d-851b-6e2f81ab49ab",
        "colab": {
          "base_uri": "https://localhost:8080/",
          "height": 394
        }
      },
      "cell_type": "code",
      "source": [
        "score = model2.evaluate(X_test,Y_test,verbose=0)\n",
        "print(\"Test Score:\",score[0])\n",
        "print('Test accuracy',score[1])\n",
        "\n",
        "#Test and Train \n",
        "model2_test = score[1]\n",
        "model2_train = history.history['acc']\n",
        "\n",
        "\n",
        "\n",
        "\n",
        "fig,ax = plt.subplots(1,1)\n",
        "ax.set_xlabel('epoch') ; ax.set_ylabel('Categorical Crossentropy Loss')\n",
        "\n",
        "# list of epoch numbers\n",
        "x = list(range(1,nb_epochs+1))\n",
        "\n",
        "\n",
        "vy = history.history['val_loss']\n",
        "ty = history.history['loss']\n",
        "plt_dynamic(x, vy, ty, ax)\n",
        "\n"
      ],
      "execution_count": 65,
      "outputs": [
        {
          "output_type": "stream",
          "text": [
            "Test Score: 0.06834965507439338\n",
            "Test accuracy 0.9811\n"
          ],
          "name": "stdout"
        },
        {
          "output_type": "display_data",
          "data": {
            "image/png": "[encoded data removed]",
            "text/plain": [
              "<Figure size 576x396 with 1 Axes>"
            ]
          },
          "metadata": {
            "tags": []
          }
        }
      ]
    },
    {
      "metadata": {
        "id": "nPna7eOteSer",
        "colab_type": "code",
        "outputId": "75648f82-f82c-4c82-d8af-5bb7efa681ad",
        "colab": {
          "base_uri": "https://localhost:8080/",
          "height": 672
        }
      },
      "cell_type": "code",
      "source": [
        "model3 = Sequential()\n",
        "model3.add(Dense(512,activation='sigmoid',input_shape=(input_dim,),kernel_initializer='he_normal'))\n",
        "model3.add(BatchNormalization())\n",
        "model3.add(Dropout(0.5))\n",
        "\n",
        "model3.add(Dense(364,activation='relu',kernel_initializer='he_normal'))\n",
        "model3.add(BatchNormalization())\n",
        "model3.add(Dropout(0.5))\n",
        "\n",
        "model3.add(Dense(256,activation='relu',kernel_initializer='he_normal'))\n",
        "model3.add(BatchNormalization())\n",
        "model3.add(Dropout(0.5))\n",
        "\n",
        "\n",
        "model3.add(Dense(128,activation='relu',kernel_initializer='he_normal'))\n",
        "model3.add(BatchNormalization())\n",
        "model3.add(Dropout(0.5))\n",
        "\n",
        "\n",
        "model3.add(Dense(64,activation='relu',kernel_initializer='he_normal'))\n",
        "model3.add(BatchNormalization())\n",
        "model3.add(Dropout(0.5))\n",
        "\n",
        "\n",
        "model3.add(Dense(out_dim,activation='softmax'))\n",
        "\n",
        "model3.summary()"
      ],
      "execution_count": 0,
      "outputs": [
        {
          "output_type": "stream",
          "text": [
            "_________________________________________________________________\n",
            "Layer (type)                 Output Shape              Param #   \n",
            "=================================================================\n",
            "dense_13 (Dense)             (None, 512)               401920    \n",
            "_________________________________________________________________\n",
            "batch_normalization_10 (Batc (None, 512)               2048      \n",
            "_________________________________________________________________\n",
            "dropout_10 (Dropout)         (None, 512)               0         \n",
            "_________________________________________________________________\n",
            "dense_14 (Dense)             (None, 364)               186732    \n",
            "_________________________________________________________________\n",
            "batch_normalization_11 (Batc (None, 364)               1456      \n",
            "_________________________________________________________________\n",
            "dropout_11 (Dropout)         (None, 364)               0         \n",
            "_________________________________________________________________\n",
            "dense_15 (Dense)             (None, 256)               93440     \n",
            "_________________________________________________________________\n",
            "batch_normalization_12 (Batc (None, 256)               1024      \n",
            "_________________________________________________________________\n",
            "dropout_12 (Dropout)         (None, 256)               0         \n",
            "_________________________________________________________________\n",
            "dense_16 (Dense)             (None, 128)               32896     \n",
            "_________________________________________________________________\n",
            "batch_normalization_13 (Batc (None, 128)               512       \n",
            "_________________________________________________________________\n",
            "dropout_13 (Dropout)         (None, 128)               0         \n",
            "_________________________________________________________________\n",
            "dense_17 (Dense)             (None, 64)                8256      \n",
            "_________________________________________________________________\n",
            "batch_normalization_14 (Batc (None, 64)                256       \n",
            "_________________________________________________________________\n",
            "dropout_14 (Dropout)         (None, 64)                0         \n",
            "_________________________________________________________________\n",
            "dense_18 (Dense)             (None, 10)                650       \n",
            "=================================================================\n",
            "Total params: 729,190\n",
            "Trainable params: 726,542\n",
            "Non-trainable params: 2,648\n",
            "_________________________________________________________________\n"
          ],
          "name": "stdout"
        }
      ]
    },
    {
      "metadata": {
        "id": "ixMUF05fe8gR",
        "colab_type": "code",
        "outputId": "aa54502a-e47f-438a-d352-5c6a7b808e02",
        "colab": {
          "base_uri": "https://localhost:8080/",
          "height": 706
        }
      },
      "cell_type": "code",
      "source": [
        "model3.compile(optimizer='adam',loss='sparse_categorical_crossentropy',metrics=['accuracy'])\n",
        "history = model3.fit(X_train,Y_train,batch_size=batch_size,epochs=nb_epochs,verbose=1,validation_data=[X_test,Y_test])"
      ],
      "execution_count": 0,
      "outputs": [
        {
          "output_type": "stream",
          "text": [
            "Train on 60000 samples, validate on 10000 samples\n",
            "Epoch 1/20\n",
            "60000/60000 [==============================] - 16s 272us/step - loss: 1.0973 - acc: 0.6565 - val_loss: 0.2909 - val_acc: 0.9161\n",
            "Epoch 2/20\n",
            "60000/60000 [==============================] - 14s 238us/step - loss: 0.4639 - acc: 0.8686 - val_loss: 0.2138 - val_acc: 0.9401\n",
            "Epoch 3/20\n",
            "60000/60000 [==============================] - 14s 237us/step - loss: 0.3634 - acc: 0.8988 - val_loss: 0.1774 - val_acc: 0.9480\n",
            "Epoch 4/20\n",
            "60000/60000 [==============================] - 14s 236us/step - loss: 0.3128 - acc: 0.9135 - val_loss: 0.1522 - val_acc: 0.9557\n",
            "Epoch 5/20\n",
            "60000/60000 [==============================] - 14s 237us/step - loss: 0.2787 - acc: 0.9238 - val_loss: 0.1322 - val_acc: 0.9612\n",
            "Epoch 6/20\n",
            "60000/60000 [==============================] - 14s 238us/step - loss: 0.2509 - acc: 0.9320 - val_loss: 0.1315 - val_acc: 0.9626\n",
            "Epoch 7/20\n",
            "60000/60000 [==============================] - 14s 240us/step - loss: 0.2351 - acc: 0.9355 - val_loss: 0.1139 - val_acc: 0.9666\n",
            "Epoch 8/20\n",
            "60000/60000 [==============================] - 14s 240us/step - loss: 0.2165 - acc: 0.9407 - val_loss: 0.1149 - val_acc: 0.9690\n",
            "Epoch 9/20\n",
            "60000/60000 [==============================] - 14s 240us/step - loss: 0.1969 - acc: 0.9460 - val_loss: 0.1146 - val_acc: 0.9671\n",
            "Epoch 10/20\n",
            "60000/60000 [==============================] - 14s 240us/step - loss: 0.1907 - acc: 0.9487 - val_loss: 0.0996 - val_acc: 0.9721\n",
            "Epoch 11/20\n",
            "60000/60000 [==============================] - 14s 238us/step - loss: 0.1743 - acc: 0.9517 - val_loss: 0.0955 - val_acc: 0.9742\n",
            "Epoch 12/20\n",
            "60000/60000 [==============================] - 14s 240us/step - loss: 0.1647 - acc: 0.9546 - val_loss: 0.0928 - val_acc: 0.9744\n",
            "Epoch 13/20\n",
            "60000/60000 [==============================] - 14s 239us/step - loss: 0.1626 - acc: 0.9566 - val_loss: 0.0909 - val_acc: 0.9749\n",
            "Epoch 14/20\n",
            "60000/60000 [==============================] - 14s 239us/step - loss: 0.1527 - acc: 0.9583 - val_loss: 0.0848 - val_acc: 0.9768\n",
            "Epoch 15/20\n",
            "60000/60000 [==============================] - 14s 238us/step - loss: 0.1441 - acc: 0.9605 - val_loss: 0.0831 - val_acc: 0.9767\n",
            "Epoch 16/20\n",
            "60000/60000 [==============================] - 15s 255us/step - loss: 0.1376 - acc: 0.9629 - val_loss: 0.0795 - val_acc: 0.9789\n",
            "Epoch 17/20\n",
            "60000/60000 [==============================] - 14s 238us/step - loss: 0.1344 - acc: 0.9647 - val_loss: 0.0765 - val_acc: 0.9790\n",
            "Epoch 18/20\n",
            "60000/60000 [==============================] - 14s 238us/step - loss: 0.1251 - acc: 0.9666 - val_loss: 0.0730 - val_acc: 0.9798\n",
            "Epoch 19/20\n",
            "60000/60000 [==============================] - 14s 239us/step - loss: 0.1212 - acc: 0.9672 - val_loss: 0.0763 - val_acc: 0.9792\n",
            "Epoch 20/20\n",
            "60000/60000 [==============================] - 14s 241us/step - loss: 0.1197 - acc: 0.9681 - val_loss: 0.0755 - val_acc: 0.9797\n"
          ],
          "name": "stdout"
        }
      ]
    },
    {
      "metadata": {
        "id": "Nhb9LsGwgLzL",
        "colab_type": "code",
        "outputId": "5678a278-3f2b-41d1-fc14-845f2b9e111d",
        "colab": {
          "base_uri": "https://localhost:8080/",
          "height": 394
        }
      },
      "cell_type": "code",
      "source": [
        "score = model3.evaluate(X_test,Y_test,verbose=0)\n",
        "print(\"Test Score:\",score[0])\n",
        "print('Test accuracy',score[1])\n",
        "\n",
        "# test and train\n",
        "model3_test = score[1]\n",
        "model3_train = history.history['acc']\n",
        "\n",
        "\n",
        "fig,ax = plt.subplots(1,1)\n",
        "ax.set_xlabel('epoch') ; ax.set_ylabel('Categorical Crossentropy Loss')\n",
        "\n",
        "# list of epoch numbers\n",
        "x = list(range(1,nb_epochs+1))\n",
        "\n",
        "\n",
        "vy = history.history['val_loss']\n",
        "ty = history.history['loss']\n",
        "plt_dynamic(x, vy, ty, ax)\n",
        "\n",
        "\n",
        "\n"
      ],
      "execution_count": 66,
      "outputs": [
        {
          "output_type": "stream",
          "text": [
            "Test Score: 0.07552010028809308\n",
            "Test accuracy 0.9797\n"
          ],
          "name": "stdout"
        },
        {
          "output_type": "display_data",
          "data": {
            "image/png": "[encoded data removed]",
            "text/plain": [
              "<Figure size 576x396 with 1 Axes>"
            ]
          },
          "metadata": {
            "tags": []
          }
        }
      ]
    },
    {
      "metadata": {
        "id": "D-wYIT5mrWuj",
        "colab_type": "code",
        "colab": {
          "base_uri": "https://localhost:8080/",
          "height": 171
        },
        "outputId": "68cf8e5e-7aa1-4a1d-d1cd-ea4da410e275"
      },
      "cell_type": "code",
      "source": [
        "!pip install prettytable\n",
        "\n",
        "\n",
        "from prettytable import PrettyTable\n",
        "\n",
        "#Names of models\n",
        "names = ['MLP-2hiddenlayers','MLP-3hiddenLayers','MLP-5hiddenLayers']\n",
        "\n",
        "#training accuracies\n",
        "train = [model_train[19],model2_train[19],model3_train[19]]\n",
        "#test accuracies\n",
        "test = [model_test,model2_test,model3_test]\n",
        "\n",
        "col_num  =[1,2,3]\n",
        "\n",
        "pt=PrettyTable()\n",
        "\n",
        "pt.add_column('No',col_num)\n",
        "pt.add_column('Models',names)\n",
        "pt.add_column('Training Acc',train)\n",
        "pt.add_column('Test Acc',test)\n",
        "\n",
        "#Printing the Table\n",
        "print(pt)"
      ],
      "execution_count": 72,
      "outputs": [
        {
          "output_type": "stream",
          "text": [
            "Requirement already satisfied: prettytable in /usr/local/lib/python3.6/dist-packages (0.7.2)\n",
            "+----+-------------------+--------------------+----------+\n",
            "| No |       Models      |    Training Acc    | Test Acc |\n",
            "+----+-------------------+--------------------+----------+\n",
            "| 1  | MLP-2hiddenlayers | 0.9732833333333333 |  0.9842  |\n",
            "| 2  | MLP-3hiddenLayers | 0.9732833333333333 |  0.9811  |\n",
            "| 3  | MLP-5hiddenLayers | 0.9732833333333333 |  0.9797  |\n",
            "+----+-------------------+--------------------+----------+\n"
          ],
          "name": "stdout"
        }
      ]
    }
  ]
}